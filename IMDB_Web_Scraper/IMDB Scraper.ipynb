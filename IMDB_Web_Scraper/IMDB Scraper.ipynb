{
 "cells": [
  {
   "cell_type": "code",
   "execution_count": 19,
   "id": "97e14c5f",
   "metadata": {},
   "outputs": [],
   "source": [
    "import requests\n",
    "from bs4 import BeautifulSoup\n",
    "import pandas as pd"
   ]
  },
  {
   "cell_type": "code",
   "execution_count": 20,
   "id": "ac99b698",
   "metadata": {},
   "outputs": [],
   "source": [
    "Title  = []\n",
    "Year   = []\n",
    "Rating = []"
   ]
  },
  {
   "cell_type": "code",
   "execution_count": 21,
   "id": "bcd2dd78",
   "metadata": {},
   "outputs": [],
   "source": [
    "url = 'https://www.imdb.com/chart/top/?ref_=nv_mv_250'\n",
    "r = requests.get(url).content"
   ]
  },
  {
   "cell_type": "code",
   "execution_count": 27,
   "id": "7e4729e7",
   "metadata": {},
   "outputs": [],
   "source": [
    "soup = BeautifulSoup(r, 'html.parser')\n",
    "list = soup.find('tbody', {'class':'lister-list'}).find_all('tr')\n",
    "x = 1\n",
    "\n",
    "for i in list:\n",
    "    title = i.find('td',{'class':'titleColumn'})\n",
    "    year = i.find('span',{'class':'secondaryInfo'})\n",
    "    rating = i.find('td', {'class':'ratingColumn imdbRating'})\n",
    "    Title.append(title.text)\n",
    "    Year.append(year.text)\n",
    "    Rating.append(rating.text)"
   ]
  },
  {
   "cell_type": "code",
   "execution_count": 28,
   "id": "b2c1e5ff",
   "metadata": {},
   "outputs": [],
   "source": [
    "df = pd.DataFrame({'title':Title,'year':Year,'rating':Rating})"
   ]
  },
  {
   "cell_type": "code",
   "execution_count": 29,
   "id": "3ed2ce8b",
   "metadata": {},
   "outputs": [],
   "source": [
    "df.to_csv('IMDB.csv', index=False, encoding = 'utf-8')"
   ]
  },
  {
   "cell_type": "code",
   "execution_count": null,
   "id": "3c65f175",
   "metadata": {},
   "outputs": [],
   "source": []
  }
 ],
 "metadata": {
  "kernelspec": {
   "display_name": "Python 3",
   "language": "python",
   "name": "python3"
  },
  "language_info": {
   "codemirror_mode": {
    "name": "ipython",
    "version": 3
   },
   "file_extension": ".py",
   "mimetype": "text/x-python",
   "name": "python",
   "nbconvert_exporter": "python",
   "pygments_lexer": "ipython3",
   "version": "3.8.8"
  }
 },
 "nbformat": 4,
 "nbformat_minor": 5
}
